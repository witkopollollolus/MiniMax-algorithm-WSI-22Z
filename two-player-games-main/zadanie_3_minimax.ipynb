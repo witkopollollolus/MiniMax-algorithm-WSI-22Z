{
  "cells": [
    {
      "cell_type": "markdown",
      "metadata": {
        "collapsed": false,
        "id": "cKH_jroFFRYg"
      },
      "source": [
        "# Ćwiczenie 3\n",
        "\n",
        "Celem ćwiczenia jest imlementacja metody [Minimax z obcinaniem alpha-beta](https://en.wikipedia.org/wiki/Alpha%E2%80%93beta_pruning) do gry Connect Four (czwórki).\n",
        "\n",
        "W trakcie ćwiczenia można skorzystać z reposytorium z implementacją gry [Connect Four udostępnionym przez Jakuba Łyskawę](https://github.com/lychanl/two-player-games). Ewentualnie, można zaimplementować samemu grę Connect Four (ale, tak aby rozwiązanie miało ten sam interfejs co podany poniżej).\n",
        "\n",
        "Implementację Minimax należy przetestować używając różną głębokość przeszukiwania. Implementacja Solvera musi zapewniać interfejs jak poniżej, ale można dodać dowolne metody prywatne oraz klasy wspomagające (jeżeli będą potrzebne).\n",
        "\n",
        "Punktacja:\n",
        "- Działająca metoda Minimax - **2 pkt**\n",
        "- Działająca metoda Minimax z obcinaniem alpha-beta - **1.5 pkt**\n",
        "- Analiza jakości solvera w zależności od głębokości przeszukiwania **1.5pkt**\n",
        "    - można zaimplementować w tym celu wizualizację rozgrywki dwóch agentów, bądź kilka przykładów 'z ręki'\n",
        "- Jakość kodu **2pkt**"
      ]
    },
    {
      "cell_type": "markdown",
      "metadata": {
        "collapsed": false,
        "id": "zvgUaAVuFRZv"
      },
      "source": [
        "Aby importowanie elementów z poniższej komórki działało należy umieścić tego notebooka w tym samym folderze co paczkę `two_player_games`:\n",
        "```\n",
        "├── LICENSE\n",
        "├── README.md\n",
        "├── minimax.ipynb # HERE\n",
        "├── test\n",
        "│   ├── __init__.py\n",
        "│   ├── test_connect_four.py\n",
        "│   ├── test_dots_and_boxes.py\n",
        "│   └── test_pick.py\n",
        "└── two_player_games\n",
        "    ├── __init__.py\n",
        "    ├── games\n",
        "    │   ├── connect_four.py\n",
        "    │   └── dots_and_boxes.py\n",
        "    ├── move.py\n",
        "    ├── player.py\n",
        "    └── state.py\n",
        "```"
      ]
    },
    {
      "cell_type": "code",
      "execution_count": 187,
      "metadata": {
        "colab": {
          "base_uri": "https://localhost:8080/",
          "height": 375
        },
        "collapsed": true,
        "id": "ytoVrzxpFRZz",
        "outputId": "44030d0f-77c6-481d-8c44-7e405574c71f"
      },
      "outputs": [],
      "source": [
        "from typing import Tuple, List\n",
        "import copy\n",
        "import math\n",
        "\n",
        "from two_player_games.player import Player\n",
        "from two_player_games.games.connect_four import ConnectFour, ConnectFourMove, ConnectFourState"
      ]
    },
    {
      "cell_type": "markdown",
      "metadata": {
        "collapsed": false,
        "id": "xq8grtt1FRZ9"
      },
      "source": [
        "Wielkość planszy"
      ]
    },
    {
      "cell_type": "code",
      "execution_count": 188,
      "metadata": {
        "id": "dehSo_Y6FRaB"
      },
      "outputs": [],
      "source": [
        "ROW_COUNT = 4\n",
        "COLUMN_COUNT = 7"
      ]
    },
    {
      "cell_type": "code",
      "execution_count": 189,
      "metadata": {
        "id": "Jc7NNOsLFRaE"
      },
      "outputs": [],
      "source": [
        "class MinMaxSolver:\n",
        "\n",
        "    def __init__(self, game: ConnectFour):\n",
        "        self.game = game\n",
        "        self.fields = game.state.fields\n",
        "        self.columns_count = len(self.fields) #Trzeba się niezwykle napracować nad taką głupotą\n",
        "        self.rows_count = len(self.fields[0])\n",
        "        # print(self.rows_count)\n",
        "        # print(self.columns_count)\n",
        "        self.p_min = game.get_players()[0]\n",
        "        self.p_max = game.get_players()[1]\n",
        "\n",
        "    def evaluate_position(self, player: Player)->float:\n",
        "        \n",
        "        # game1=copy.deepcopy(self.game)\n",
        "        pass\n",
        "\n",
        "    def heuristic(self, x, y):\n",
        "        y_score = math.floor((self.columns_count)/2)-math.floor(abs(y-(self.rows_count-1)/2))\n",
        "        x_score = math.floor((self.rows_count)/2)-math.floor(abs(x-(self.columns_count-1)/2))\n",
        "        return x_score+y_score\n",
        "\n",
        "\n",
        "    def minimax(self, depth, alpha:float, beta:float, is_maximizing_player:bool)-> Tuple[int, float]:\n",
        "        \"\"\"Returns column index and score\"\"\"\n",
        "        if self.get_wining_move()[0] != -1 :\n",
        "            if is_maximizing_player:\n",
        "                return [self.get_wining_move()[0], 1000]\n",
        "            else:\n",
        "                return [self.get_wining_move()[0], -1000]\n",
        "        # elif (depth == 0):\n",
        "        #     #heurystyka\n",
        "        #     return [self.heuristic()]\n",
        "        #     pass\n",
        "        \n",
        "        tab_h = []\n",
        "        for m in self.game.get_moves():\n",
        "\n",
        "            game_c=copy.deepcopy(self.game)\n",
        "            if (depth > 0): #tak jest zrobić heurystykę łatwiej gdyż, wywoływany minmax nie wie jaki ruch właśnie wykonał\n",
        "                game_c.make_move(m)\n",
        "                mmsol = MinMaxSolver(game_c)\n",
        "                print(game_c)\n",
        "                print(depth)\n",
        "                # print(mmsol.minimax(depth-1,0,0,(not is_maximizing_player)))\n",
        "                best_poch = mmsol.minimax(depth-1,0,0,(not is_maximizing_player))\n",
        "                print(best_poch)\n",
        "                # tab_h.append(mmsol.minimax(depth-1,0,0,(not is_maximizing_player)))\n",
        "                tab_h.append([m.column, best_poch[1]])\n",
        "            else:\n",
        "                x = m.column\n",
        "                if  is_maximizing_player: #być może tu powinno być na odwrót\n",
        "                    return[x, self.heuristic(x, self.get_column_height(x))]\n",
        "                else:\n",
        "                    return[x, -1*self.heuristic(x, self.get_column_height(x))]\n",
        "            \n",
        "        if(is_maximizing_player):\n",
        "            #max wartosc z drugiej pozycji krotki\n",
        "            tab_h.sort(key=lambda a: a[1], reverse=True)\n",
        "        else:\n",
        "            tab_h.sort(key=lambda a: a[1], reverse=False)\n",
        "        return tab_h[0]\n",
        "    \n",
        "    def get_column_height(self, col: int) -> int:\n",
        "        i=0\n",
        "        for i, field in enumerate(self.fields[col]):\n",
        "            if field is not None:\n",
        "                i = i + 1\n",
        "            else:\n",
        "                return i\n",
        "                \n",
        "    def get_wining_move(self):#returns -1 if wining move do not exist\n",
        "\n",
        "        moves = self.game.get_moves()\n",
        "        for m in moves:\n",
        "            game1=copy.deepcopy(self.game)\n",
        "            player1 = game1.get_current_player()\n",
        "            game1.make_move(m)\n",
        "            # print(game1)\n",
        "            player2= game1.get_current_player()\n",
        "            if(game1.get_winner()==player1):\n",
        "                return [m.column, player1]\n",
        "            elif(game1.get_winner()==player2):\n",
        "                return [m.column, player2]\n",
        "        return [-1, None]\n",
        "            \n",
        "\n",
        "    def get_best_move(self)->int:\n",
        "        pass\n",
        "\n",
        "    def _get_valid_locations(self)->List[int]:\n",
        "        pass\n",
        "\n",
        "    def _is_valid_move(self, col_index:int)->bool:\n",
        "        pass"
      ]
    },
    {
      "cell_type": "markdown",
      "metadata": {},
      "source": [
        "TEST HEURYSTYKI"
      ]
    },
    {
      "cell_type": "code",
      "execution_count": 190,
      "metadata": {},
      "outputs": [
        {
          "name": "stdout",
          "output_type": "stream",
          "text": [
            "[[2, 3, 4, 5, 5, 4, 3, 2], [3, 4, 5, 6, 6, 5, 4, 3], [4, 5, 6, 7, 7, 6, 5, 4], [5, 6, 7, 8, 8, 7, 6, 5], [6, 7, 8, 9, 9, 8, 7, 6], [6, 7, 8, 9, 9, 8, 7, 6], [5, 6, 7, 8, 8, 7, 6, 5], [4, 5, 6, 7, 7, 6, 5, 4], [3, 4, 5, 6, 6, 5, 4, 3], [2, 3, 4, 5, 5, 4, 3, 2]]\n",
            "2\n"
          ]
        }
      ],
      "source": [
        "ROW_COUNT = 8\n",
        "COLUMN_COUNT = 10\n",
        "p1 = Player(\"a\")\n",
        "p2 = Player(\"b\")\n",
        "t = [ [0]*8 for i in range(10)]\n",
        "game_0 =ConnectFour(size=(COLUMN_COUNT, ROW_COUNT), first_player=p1, second_player=p2)\n",
        "minmax_0 = MinMaxSolver(game_0)\n",
        "for i in range(COLUMN_COUNT):\n",
        "    for j in range(ROW_COUNT):\n",
        "        t[i][j] = minmax_0.heuristic(i,j)\n",
        "print(t)\n",
        "print(t[9][0])\n",
        "\n",
        "# ROW_COUNT = 4\n",
        "# COLUMN_COUNT = 4\n",
        "# p1 = Player(\"a\")\n",
        "# p2 = Player(\"b\")\n",
        "# t = [ [0]*4 for i in range(4)]\n",
        "# game_0 =ConnectFour(size=(COLUMN_COUNT, ROW_COUNT), first_player=p1, second_player=p2)\n",
        "# minmax_0 = MinMaxSolver(game_0)\n",
        "# for i in range(COLUMN_COUNT):\n",
        "#     for j in range(ROW_COUNT):\n",
        "#         t[i][j] = minmax_0.heuristic(i,j)\n",
        "# print(t)\n",
        "\n"
      ]
    },
    {
      "cell_type": "code",
      "execution_count": 191,
      "metadata": {
        "id": "HdwC1dWKFRaP"
      },
      "outputs": [
        {
          "name": "stdout",
          "output_type": "stream",
          "text": [
            "False\n",
            "False\n",
            "True\n",
            "False\n",
            "0\n",
            "10\n",
            "col height check\n",
            "Current player: b\n",
            "[ ][ ][ ][ ][ ][ ][ ][ ][ ][ ]\n",
            "[ ][ ][ ][ ][ ][ ][ ][ ][ ][ ]\n",
            "[ ][ ][ ][ ][ ][ ][ ][ ][ ][ ]\n",
            "[ ][ ][ ][ ][ ][ ][ ][ ][ ][ ]\n",
            "[ ][ ][ ][a][b][ ][ ][ ][ ][ ]\n",
            "[ ][ ][ ][a][b][ ][ ][ ][ ][ ]\n",
            "[ ][ ][ ][a][b][ ][ ][ ][ ][ ]\n",
            "[ ][ ][a][a][b][ ][ ][ ][ ][ ]\n"
          ]
        }
      ],
      "source": [
        "\n",
        "game = ConnectFour(size=(COLUMN_COUNT, ROW_COUNT), first_player=p1, second_player=p2)\n",
        "game.make_move(ConnectFourMove(3))\n",
        "game.make_move(ConnectFourMove(4))\n",
        "game.make_move(ConnectFourMove(3))\n",
        "game.make_move(ConnectFourMove(4))\n",
        "game.make_move(ConnectFourMove(3))\n",
        "game.make_move(ConnectFourMove(4))\n",
        "\n",
        "\n",
        "print(game.get_winner() == p1)\n",
        "print(game.get_winner() == p2)\n",
        "game.make_move(ConnectFourMove(2))\n",
        "game.make_move(ConnectFourMove(4))\n",
        "game.make_move(ConnectFourMove(3))\n",
        "print(game.get_winner() == p1)\n",
        "print(game.get_winner() == p2)\n",
        "\n",
        "\n",
        "moves = game.get_moves()\n",
        "fields = game.state.fields\n",
        "m1 = moves[0]\n",
        "print(m1.column)\n",
        "print(len(moves))\n",
        "print(\"col height check\")\n",
        "\n",
        "print(game)"
      ]
    },
    {
      "cell_type": "markdown",
      "metadata": {
        "collapsed": false,
        "id": "-o4Lo-XTFRaJ"
      },
      "source": [
        "Rozgrywka"
      ]
    },
    {
      "cell_type": "code",
      "execution_count": 192,
      "metadata": {},
      "outputs": [
        {
          "name": "stdout",
          "output_type": "stream",
          "text": [
            "Current player: b\n",
            "[ ][b][ ][ ]\n",
            "[ ][a][ ][ ]\n",
            "[a][a][ ][ ]\n",
            "[b][a][b][ ]\n",
            "2\n",
            "Current player: a\n",
            "[ ][b][ ][ ]\n",
            "[b][a][ ][ ]\n",
            "[a][a][ ][ ]\n",
            "[b][a][b][ ]\n",
            "1\n",
            "[0, -2]\n",
            "Current player: a\n",
            "[ ][b][ ][ ]\n",
            "[ ][a][ ][ ]\n",
            "[a][a][b][ ]\n",
            "[b][a][b][ ]\n",
            "1\n",
            "[0, -3]\n",
            "Current player: a\n",
            "[ ][b][ ][ ]\n",
            "[ ][a][ ][ ]\n",
            "[a][a][ ][ ]\n",
            "[b][a][b][b]\n",
            "1\n",
            "[0, -3]\n",
            "[2, -3]\n",
            "Current player: b\n",
            "[ ][b][ ][ ]\n",
            "[ ][a][ ][ ]\n",
            "[ ][a][a][ ]\n",
            "[b][a][b][ ]\n",
            "2\n",
            "Current player: a\n",
            "[ ][b][ ][ ]\n",
            "[ ][a][ ][ ]\n",
            "[b][a][a][ ]\n",
            "[b][a][b][ ]\n",
            "1\n",
            "[0, -3]\n",
            "Current player: a\n",
            "[ ][b][ ][ ]\n",
            "[ ][a][b][ ]\n",
            "[ ][a][a][ ]\n",
            "[b][a][b][ ]\n",
            "1\n",
            "[0, -3]\n",
            "Current player: a\n",
            "[ ][b][ ][ ]\n",
            "[ ][a][ ][ ]\n",
            "[ ][a][a][ ]\n",
            "[b][a][b][b]\n",
            "1\n",
            "[0, -3]\n",
            "[0, -3]\n",
            "Current player: b\n",
            "[ ][b][ ][ ]\n",
            "[ ][a][ ][ ]\n",
            "[ ][a][ ][ ]\n",
            "[b][a][b][a]\n",
            "2\n",
            "Current player: a\n",
            "[ ][b][ ][ ]\n",
            "[ ][a][ ][ ]\n",
            "[b][a][ ][ ]\n",
            "[b][a][b][a]\n",
            "1\n",
            "[0, -3]\n",
            "Current player: a\n",
            "[ ][b][ ][ ]\n",
            "[ ][a][ ][ ]\n",
            "[ ][a][b][ ]\n",
            "[b][a][b][a]\n",
            "1\n",
            "[0, -3]\n",
            "Current player: a\n",
            "[ ][b][ ][ ]\n",
            "[ ][a][ ][ ]\n",
            "[ ][a][ ][b]\n",
            "[b][a][b][a]\n",
            "1\n",
            "[0, -3]\n",
            "[0, -3]\n",
            "[0, -3]\n"
          ]
        }
      ],
      "source": [
        "ROW_COUNT = 4\n",
        "COLUMN_COUNT = 4\n",
        "p1 = Player(\"a\")\n",
        "p2 = Player(\"b\")\n",
        "\n",
        "game1 = ConnectFour(size=(COLUMN_COUNT, ROW_COUNT), first_player=p1, second_player=p2)\n",
        "\n",
        "game1.make_move(ConnectFourMove(1))\n",
        "game1.make_move(ConnectFourMove(2))\n",
        "game1.make_move(ConnectFourMove(1))\n",
        "game1.make_move(ConnectFourMove(0))\n",
        "game1.make_move(ConnectFourMove(1))\n",
        "game1.make_move(ConnectFourMove(1))\n",
        "\n",
        "minmax = MinMaxSolver(game1)\n",
        "# print(game1)\n",
        "# print(minmax.get_column_height(1))\n",
        "# print(minmax.get_wining_move())\n",
        "\n",
        "# sample = [('Jack', 76), ('Beneth', 78), ('Cirus', 77), ('Faiz', 79)]\n",
        "# sample.sort(key=lambda a: a[1], reverse=True)\n",
        "# print(sample)\n",
        "\n",
        "# for m in game1.get_moves():\n",
        "\n",
        "#             game_c=copy.deepcopy(game1)\n",
        "#             game_c.make_move(m)\n",
        "#             print(game_c)\n",
        "        \n",
        "\n",
        "# print(game1)\n",
        "x = minmax.minimax(2,0,0,True)\n",
        "print(x)"
      ]
    }
  ],
  "metadata": {
    "colab": {
      "provenance": []
    },
    "kernelspec": {
      "display_name": "Python 3.10.8 64-bit (microsoft store)",
      "language": "python",
      "name": "python3"
    },
    "language_info": {
      "codemirror_mode": {
        "name": "ipython",
        "version": 3
      },
      "file_extension": ".py",
      "mimetype": "text/x-python",
      "name": "python",
      "nbconvert_exporter": "python",
      "pygments_lexer": "ipython3",
      "version": "3.10.8"
    },
    "vscode": {
      "interpreter": {
        "hash": "4c9a4ab55cacc9a075354fcb351f4af82430dfca257af3bd76c72878157b85e1"
      }
    }
  },
  "nbformat": 4,
  "nbformat_minor": 0
}
